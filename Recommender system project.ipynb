# import some libraries
import pandas as pd
import numpy as np
import matplotlib.pyplot as plt


# Here I have dataset(u.data) containing the following columns:
colunm_names = ['user_id', 'item_id', 'rating', 'timestamp']
df = pd.read_csv('u.data', sep='\t', names=colunm_names)

df.head()

# I have another dataset(Movie_Id_Titles) that contains two columns, item_id and title:
movie_title = pd.read_csv('Movie_Id_Titles')
movie_title.head()

# Now I merge these two datasets by their item_id column:
df = pd.merge(df,movie_title, on='item_id', suffixes=None)
df.head()

df.head()

# Lets see average rating of the movie title:
df.groupby('title')['rating'].mean().sort_values(ascending=False).head()

df.groupby('title')['rating'].count().sort_values(ascending=False).head()

As we can see that Star Wars(1977) have highest number of ratings


ratings = pd.DataFrame(df.groupby('title')['rating'].mean())

ratings.head()

# Creating new column(num of rating) that contains number of rating by each movie title:
ratings['num of rating'] = df.groupby('title')['rating'].count()

ratings.head()

# ploting num of rating on histogram:
ratings['num of rating'].hist(bins=50)

# As we can see that most number of ratings lies between 1 to 50 (approx):
# There are few movies that have more than 300 number of ratings:

<!-- As we can see that the few movies which have more than 300 number of ratings.
Most of number of ratings lies between 1 to 10 -->

ratings['rating'].hist(bins=50)

# In the above chart, we can see that most movies have around 3.0 to 4.0 ratings:

import seaborn as sns
sns.jointplot(x='rating',y='num of rating', data=ratings)

# Lets see correlation of movies by their ratings:
moviemat = df.pivot_table(index='user_id', columns=df['title'], values='rating' )

moviemat.head()

sw_user = moviemat['Star Wars (1977)']
lier_user = moviemat['Liar Liar (1997)']

sw_user.head()

# Lets see movies similer to the Star Wars and Lier Lier
similer_to_sw = moviemat.corrwith(sw_user)
similer_to_lier = moviemat.corrwith(lier_user)

corr_starwars = pd.DataFrame(similer_to_sw,columns=['Correlation'])
corr_starwars.dropna(inplace=True)
corr_starwars.head()

# Now,Top 10 Movies Correlated with Star Wars movie are as follows-
corr_starwars.sort_values('Correlation',ascending=False).head(10)

Clearly, the above movies are strongly correlated with Star Wars movie:

corr_starwars = corr_starwars.join(ratings['num of rating'])
corr_starwars.head()

# Lets check movies that have more than 100 ratings:
corr_starwars[corr_starwars['num of rating']>100].sort_values('Correlation',ascending=False).head()

From the above we can recommend movies like Empire Strikes Back(1980),Return of the Jedi(1983),
Raiders of the Lost Ark(1981) and Austin Powers: International Man of Mystery (1997),
    if the user watch or like to watch Star Wars movies which is Action, Adventure, Fantasy movie

# Similerly for lier lier
corr_liarliar = pd.DataFrame(similer_to_lier,columns=['Correlation'])
corr_liarliar.dropna(inplace=True)
corr_liarliar = corr_liarliar.join(ratings['num of rating'])
corr_liarliar[corr_liarliar['num of rating']>100].sort_values('Correlation',ascending=False).head()

So, if user watch Lier Lier(comedy,fantacy) then we can recommend the user to also watch Batman Forever (1995),
The Mask(1994),Down Periscope(1996) like movies:


